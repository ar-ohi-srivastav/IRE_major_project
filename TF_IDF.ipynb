{
 "cells": [
  {
   "cell_type": "code",
   "execution_count": 1,
   "id": "71651ff1",
   "metadata": {},
   "outputs": [],
   "source": [
    "import numpy as np \n",
    "import pandas as pd\n",
    "from sklearn.feature_extraction.text import TfidfVectorizer\n",
    "from sklearn.naive_bayes import MultinomialNB\n",
    "from sklearn import metrics\n",
    "import nltk\n",
    "import re\n",
    "import string\n",
    "from nltk.stem import WordNetLemmatizer\n",
    "from sklearn.model_selection import train_test_split"
   ]
  },
  {
   "cell_type": "code",
   "execution_count": 2,
   "id": "91400088",
   "metadata": {},
   "outputs": [],
   "source": [
    "train_csv = pd.read_csv('train.csv', index_col=0)"
   ]
  },
  {
   "cell_type": "code",
   "execution_count": 3,
   "id": "fec251b4",
   "metadata": {},
   "outputs": [],
   "source": [
    "#stopword removal and lemmatization\n",
    "stopwords = nltk.corpus.stopwords.words('english')\n",
    "lemmatizer = WordNetLemmatizer()"
   ]
  },
  {
   "cell_type": "code",
   "execution_count": 4,
   "id": "b20df05d",
   "metadata": {},
   "outputs": [
    {
     "data": {
      "text/plain": [
       "labels    37554\n",
       "text      37554\n",
       "dtype: int64"
      ]
     },
     "execution_count": 4,
     "metadata": {},
     "output_type": "execute_result"
    }
   ],
   "source": [
    "train_csv.head()\n",
    "train_csv.count()"
   ]
  },
  {
   "cell_type": "code",
   "execution_count": 5,
   "id": "6d4ccc4f",
   "metadata": {},
   "outputs": [],
   "source": [
    "Train = train_csv.iloc[:30000]\n",
    "Test = train_csv.iloc[30001:]"
   ]
  },
  {
   "cell_type": "code",
   "execution_count": 7,
   "id": "20f02a80",
   "metadata": {},
   "outputs": [
    {
     "data": {
      "text/plain": [
       "labels    30000\n",
       "text      30000\n",
       "dtype: int64"
      ]
     },
     "execution_count": 7,
     "metadata": {},
     "output_type": "execute_result"
    }
   ],
   "source": [
    "Train.count()"
   ]
  },
  {
   "cell_type": "code",
   "execution_count": 8,
   "id": "beb78a3a",
   "metadata": {},
   "outputs": [],
   "source": [
    "# Train test split - Splitting train and test dataset into 80:20\n",
    "# X_train_non, X_test_non, y_train, y_test = train_test_split(train_csv['text'], train_csv['labels'], test_size = 0.20)\n",
    "X_train_non = Train['text']\n",
    "X_test_non = Test['text']\n",
    "y_train = Train['labels']\n",
    "y_test = Test['labels']\n",
    "\n",
    "X_train = []\n",
    "X_test = []"
   ]
  },
  {
   "cell_type": "code",
   "execution_count": 13,
   "id": "723b2d9f",
   "metadata": {},
   "outputs": [
    {
     "data": {
      "text/plain": [
       "'The White House correspondent for Playboy Magazine—an adult entertainment publication—sprung up during Tuesday ’ s White House briefing to airbrush the embattled CNN ’ s reputation as the very fake news scandal embroiling the network received harsh treatment from Deputy White House Press Secretary Sarah Huckabee Sanders .\\nAfter ███ ’ s senior White House correspondent Charlie Spiering asked the White House for the president ’ s thoughts on the very fake news scandal ripping CNN apart from the inside out . Playboy Magazine sprung to CNN ’ s defense .\\nAs Sanders hammered the media for its failures in the wake of the very fake news scandal ’ s latest developments , Playboy ’ s Brian Karem jumped in from the side of the briefing room to back up CNN . Karem said :\\nYou ’ re inflaming everybody right here right now with those words . This administration has done that as well . Why in the name of heaven ? Any one of us , right , are replaceable . And any one of us , if we don ’ t get it right , the audience has the opportunity to turn the channel or not read us . You all have been elected to serve for four years at least . There ’ s no option other than that . We ’ re here to ask you questions . You ’ re here to provide the answers . And what you just did is inflammatory to people all over the country who look at it and see once again ‘ the president is right and everybody else out here is fake media. ’ Everybody in this room is only trying to do their job .\\nSanders put the Playboy man right back in his place .\\n“ I disagree completely , ” Sanders said . “ If anybody has been inflamed , it ’ s the dishonesty that often takes place by the news media . And I think it is outrageous for you to accuse me of inflaming a story when I was simply trying to respond to his question . ”\\nSanders was originally responding to a question from Breitbart ’ s Spiering , who asked Sanders to respond to the scandal engulfing all of CNN right now . Three of CNN ’ s editorial staff have resigned , but the scandal is spreading quickly throughout the network . President , Donald Trump expressed joy earlier in the day via Twitter when he ripped CNN for all the very fake news it puts out .\\nSanders , in response to Spiering ’ s question , lit into the media as a disgrace to journalism whenever they print inaccurate information . Sanders said :\\nI think it ’ s the constant barrage of fake news directed at this president , probably , that has garnered a lot of his frustration . You point to that report . There are multiple other instances where that outlet that you referenced has been repeatedly wrong , and had to point that out or be corrected . There ’ s a video circulating now — whether it ’ s accurate or not , I don ’ t know , but I would encourage everybody in this room , and frankly everybody across the country , to take a look at it . I think if it is accurate , I think it ’ s a disgrace to all of media , to all of journalism . I think that we have gone to a place where if the media can ’ t be trusted to report the news , then that ’ s a dangerous place for America . And I think if that is the place that certain outlets are going , particularly for the purpose of spiking ratings , and if that ’ s coming directly from the top , I think that ’ s even more scary , and certainly more disgraceful . And I hope that that ’ s not the direction we ’ re headed . I hope that outlets that have continued to use either unnamed sources — sometimes stories with no sources at all — we ’ ve been going on this Russia-Trump hoax for the better part of a year now , with no evidence of anything . Things like the success at the VA barely get covered . They may get covered for an hour at a time , but this story gets covered day in , day out , and I think America is frankly looking for something better . They ’ re looking for something more . And I think they deserve something better from our news media .\\nSanders also said she and the White House are not calling for reporters not to report on Russia ’ s efforts to interfere in the election , but simply to make an effort to get their stories right and correct before rushing anonymously-sourced often-time-inaccurate misinformation to publication .'"
      ]
     },
     "execution_count": 13,
     "metadata": {},
     "output_type": "execute_result"
    }
   ],
   "source": [
    "X_train_non[5]"
   ]
  },
  {
   "cell_type": "code",
   "execution_count": 14,
   "id": "d0509d85",
   "metadata": {},
   "outputs": [],
   "source": [
    "#text pre processing\n",
    "for i in range(0, len(X_train_non)):\n",
    "    news_text = re.sub(\"[^a-zA-Z]\", \" \", str(X_train_non[i]))\n",
    "    news_text = news_text.lower()\n",
    "    news_text = news_text.split()\n",
    "    news_text = [lemmatizer.lemmatize(word) for word in news_text if not word in set(stopwords)]\n",
    "    news_text = ' '.join(news_text)\n",
    "    X_train.append(news_text)"
   ]
  },
  {
   "cell_type": "code",
   "execution_count": 27,
   "id": "225ac152",
   "metadata": {},
   "outputs": [],
   "source": [
    "#text pre processing\n",
    "for i in range(30001, 30000+len(X_test_non)):\n",
    "    news_text = re.sub('[^a-zA-Z]', ' ', X_test_non[i])\n",
    "    news_text = news_text.lower()\n",
    "    news_text = news_text.split()\n",
    "    news_text = [lemmatizer.lemmatize(word) for word in news_text if not word in set(stopwords)]\n",
    "    news_text = ' '.join(news_text)\n",
    "    X_test.append(news_text)"
   ]
  },
  {
   "cell_type": "code",
   "execution_count": 16,
   "id": "f71152d8",
   "metadata": {},
   "outputs": [],
   "source": [
    "#tf idf\n",
    "tf_idf = TfidfVectorizer()\n",
    "#applying tf idf to training data\n",
    "X_train_tf = tf_idf.fit_transform(X_train)\n",
    "#applying tf idf to training data\n",
    "X_train_tf = tf_idf.transform(X_train)"
   ]
  },
  {
   "cell_type": "code",
   "execution_count": 17,
   "id": "42ac0b8e",
   "metadata": {},
   "outputs": [
    {
     "name": "stdout",
     "output_type": "stream",
     "text": [
      "n_samples: 30000, n_features: 104037\n"
     ]
    }
   ],
   "source": [
    "print(\"n_samples: %d, n_features: %d\" % X_train_tf.shape)"
   ]
  },
  {
   "cell_type": "code",
   "execution_count": 18,
   "id": "465d4610",
   "metadata": {},
   "outputs": [
    {
     "name": "stdout",
     "output_type": "stream",
     "text": [
      "n_samples: 7552, n_features: 104037\n"
     ]
    }
   ],
   "source": [
    "#transforming test data into tf-idf matrix\n",
    "X_test_tf = tf_idf.transform(X_test)\n",
    "print(\"n_samples: %d, n_features: %d\" % X_test_tf.shape)"
   ]
  },
  {
   "cell_type": "code",
   "execution_count": 19,
   "id": "d0a3859b",
   "metadata": {},
   "outputs": [
    {
     "data": {
      "text/plain": [
       "MultinomialNB()"
      ]
     },
     "execution_count": 19,
     "metadata": {},
     "output_type": "execute_result"
    }
   ],
   "source": [
    "#naive bayes classifier\n",
    "naive_bayes_classifier = MultinomialNB()\n",
    "naive_bayes_classifier.fit(X_train_tf, y_train)"
   ]
  },
  {
   "cell_type": "code",
   "execution_count": 20,
   "id": "99b9519d",
   "metadata": {},
   "outputs": [],
   "source": [
    "#predicted y\n",
    "y_pred = naive_bayes_classifier.predict(X_test_tf)"
   ]
  },
  {
   "cell_type": "code",
   "execution_count": 25,
   "id": "ceb80d7d",
   "metadata": {},
   "outputs": [
    {
     "name": "stdout",
     "output_type": "stream",
     "text": [
      "              precision    recall  f1-score   support\n",
      "\n",
      "           0       0.51      0.66      0.57      2595\n",
      "           1       0.71      0.16      0.26      2172\n",
      "           2       0.53      0.71      0.61      2785\n",
      "\n",
      "    accuracy                           0.53      7552\n",
      "   macro avg       0.58      0.51      0.48      7552\n",
      "weighted avg       0.58      0.53      0.49      7552\n",
      "\n"
     ]
    }
   ],
   "source": [
    "print(metrics.classification_report(y_test[:7552], y_pred))"
   ]
  },
  {
   "cell_type": "code",
   "execution_count": null,
   "id": "5d73279c",
   "metadata": {},
   "outputs": [],
   "source": []
  }
 ],
 "metadata": {
  "kernelspec": {
   "display_name": "Python 3 (ipykernel)",
   "language": "python",
   "name": "python3"
  },
  "language_info": {
   "codemirror_mode": {
    "name": "ipython",
    "version": 3
   },
   "file_extension": ".py",
   "mimetype": "text/x-python",
   "name": "python",
   "nbconvert_exporter": "python",
   "pygments_lexer": "ipython3",
   "version": "3.8.12"
  }
 },
 "nbformat": 4,
 "nbformat_minor": 5
}
